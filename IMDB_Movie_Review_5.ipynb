{
  "cells": [
    {
      "cell_type": "code",
      "execution_count": 1,
      "id": "4e50183c",
      "metadata": {
        "id": "4e50183c"
      },
      "outputs": [],
      "source": [
        "import pandas as pd\n",
        "import numpy as np\n",
        "import warnings\n",
        "warnings.filterwarnings(\"ignore\")"
      ]
    },
    {
      "cell_type": "code",
      "execution_count": 2,
      "id": "f3d9a22a",
      "metadata": {
        "id": "f3d9a22a"
      },
      "outputs": [
        {
          "name": "stderr",
          "output_type": "stream",
          "text": [
            "[nltk_data] Downloading package stopwords to\n",
            "[nltk_data]     /workspace/competitions/NCKH/Week2/nltk_data...\n",
            "[nltk_data]   Package stopwords is already up-to-date!\n"
          ]
        }
      ],
      "source": [
        "import os\n",
        "import pandas as pd\n",
        "import re\n",
        "from bs4 import BeautifulSoup\n",
        "from nltk.tokenize.toktok import ToktokTokenizer\n",
        "import nltk\n",
        "\n",
        "# Đặt thư mục riêng để lưu stopwords\n",
        "nltk_data_dir = \"/workspace/competitions/NCKH/Week2/nltk_data\"\n",
        "os.makedirs(nltk_data_dir, exist_ok=True)\n",
        "\n",
        "# Thêm đường dẫn vào nltk\n",
        "nltk.data.path.append(nltk_data_dir)\n",
        "\n",
        "# Tải stopwords về thư mục cụ thể\n",
        "nltk.download('stopwords', download_dir=nltk_data_dir)\n",
        "\n",
        "# Đọc dữ liệu\n",
        "data = pd.read_csv(\"/workspace/competitions/NCKH/Week2/IMDB Dataset.csv\")\n",
        "\n",
        "# Khởi tạo tokenizer và stopwords\n",
        "tokenizer = ToktokTokenizer()\n",
        "stopword_list = nltk.corpus.stopwords.words('english')\n",
        "stemmer = nltk.PorterStemmer()\n",
        "\n",
        "# 1. Loại bỏ thẻ HTML\n",
        "def strip_html(text):\n",
        "    return BeautifulSoup(text, \"html.parser\").get_text()\n",
        "\n",
        "# 2. Loại bỏ nội dung trong []\n",
        "def remove_between_square_brackets(text):\n",
        "    return re.sub(r'\\[[^]]*\\]', '', text)\n",
        "\n",
        "# 3. Loại bỏ ký tự đặc biệt\n",
        "def remove_special_characters(text, remove_digits=True):\n",
        "    pattern = r'[^a-zA-Z0-9\\s]'\n",
        "    return re.sub(pattern, '', text)\n",
        "\n",
        "# 4. Stemming\n",
        "def simple_stemmer(text):\n",
        "    return ' '.join([stemmer.stem(word) for word in text.split()])\n",
        "\n",
        "# 5. Loại bỏ stopwords\n",
        "def remove_stopwords(text, is_lower_case=False):\n",
        "    tokens = tokenizer.tokenize(text)\n",
        "    tokens = [token.strip() for token in tokens]\n",
        "    if is_lower_case:\n",
        "        filtered_tokens = [token for token in tokens if token not in stopword_list]\n",
        "    else:\n",
        "        filtered_tokens = [token for token in tokens if token.lower() not in stopword_list]\n",
        "    return ' '.join(filtered_tokens)\n",
        "\n",
        "# 6. Tổng hợp hàm làm sạch\n",
        "def clean_text(text):\n",
        "    text = strip_html(text)\n",
        "    text = remove_between_square_brackets(text)\n",
        "    text = remove_special_characters(text)\n",
        "    text = text.lower()\n",
        "    text = remove_stopwords(text, is_lower_case=True)\n",
        "    text = simple_stemmer(text)\n",
        "    return text\n",
        "\n",
        "# Áp dụng hàm làm sạch cho cột review\n",
        "data['review'] = data['review'].apply(clean_text)\n"
      ]
    },
    {
      "cell_type": "code",
      "execution_count": 3,
      "id": "daf31875",
      "metadata": {
        "colab": {
          "base_uri": "https://localhost:8080/",
          "height": 206
        },
        "id": "daf31875",
        "outputId": "bb5f14e9-a2f7-4c94-cdf3-531d0c8b8734"
      },
      "outputs": [
        {
          "data": {
            "text/html": [
              "<div>\n",
              "<style scoped>\n",
              "    .dataframe tbody tr th:only-of-type {\n",
              "        vertical-align: middle;\n",
              "    }\n",
              "\n",
              "    .dataframe tbody tr th {\n",
              "        vertical-align: top;\n",
              "    }\n",
              "\n",
              "    .dataframe thead th {\n",
              "        text-align: right;\n",
              "    }\n",
              "</style>\n",
              "<table border=\"1\" class=\"dataframe\">\n",
              "  <thead>\n",
              "    <tr style=\"text-align: right;\">\n",
              "      <th></th>\n",
              "      <th>review</th>\n",
              "      <th>sentiment</th>\n",
              "    </tr>\n",
              "  </thead>\n",
              "  <tbody>\n",
              "    <tr>\n",
              "      <th>0</th>\n",
              "      <td>one review mention watch 1 oz episod youll hoo...</td>\n",
              "      <td>positive</td>\n",
              "    </tr>\n",
              "    <tr>\n",
              "      <th>1</th>\n",
              "      <td>wonder littl product film techniqu unassum old...</td>\n",
              "      <td>positive</td>\n",
              "    </tr>\n",
              "    <tr>\n",
              "      <th>2</th>\n",
              "      <td>thought wonder way spend time hot summer weeke...</td>\n",
              "      <td>positive</td>\n",
              "    </tr>\n",
              "    <tr>\n",
              "      <th>3</th>\n",
              "      <td>basic there famili littl boy jake think there ...</td>\n",
              "      <td>negative</td>\n",
              "    </tr>\n",
              "    <tr>\n",
              "      <th>4</th>\n",
              "      <td>petter mattei love time money visual stun film...</td>\n",
              "      <td>positive</td>\n",
              "    </tr>\n",
              "  </tbody>\n",
              "</table>\n",
              "</div>"
            ],
            "text/plain": [
              "                                              review sentiment\n",
              "0  one review mention watch 1 oz episod youll hoo...  positive\n",
              "1  wonder littl product film techniqu unassum old...  positive\n",
              "2  thought wonder way spend time hot summer weeke...  positive\n",
              "3  basic there famili littl boy jake think there ...  negative\n",
              "4  petter mattei love time money visual stun film...  positive"
            ]
          },
          "execution_count": 3,
          "metadata": {},
          "output_type": "execute_result"
        }
      ],
      "source": [
        "data.head()"
      ]
    },
    {
      "cell_type": "code",
      "execution_count": 4,
      "id": "6b3669a9",
      "metadata": {
        "colab": {
          "base_uri": "https://localhost:8080/"
        },
        "id": "6b3669a9",
        "outputId": "a20d5236-e53a-4fb7-b770-605eda4f68e4"
      },
      "outputs": [
        {
          "data": {
            "text/plain": [
              "(50000, 2)"
            ]
          },
          "execution_count": 4,
          "metadata": {},
          "output_type": "execute_result"
        }
      ],
      "source": [
        "data.shape"
      ]
    },
    {
      "cell_type": "code",
      "execution_count": 5,
      "id": "d2067589",
      "metadata": {
        "colab": {
          "base_uri": "https://localhost:8080/",
          "height": 203
        },
        "id": "d2067589",
        "outputId": "2858b677-1d8e-414c-a042-34d8c3f8d804"
      },
      "outputs": [
        {
          "data": {
            "text/plain": [
              "pandas.core.frame.DataFrame"
            ]
          },
          "execution_count": 5,
          "metadata": {},
          "output_type": "execute_result"
        }
      ],
      "source": [
        "type(data)"
      ]
    },
    {
      "cell_type": "code",
      "execution_count": 6,
      "id": "a909dda2",
      "metadata": {
        "colab": {
          "base_uri": "https://localhost:8080/",
          "height": 206
        },
        "id": "a909dda2",
        "outputId": "6d066667-56e1-4f00-d7c5-8ec5d37f14ac"
      },
      "outputs": [
        {
          "data": {
            "text/html": [
              "<div>\n",
              "<style scoped>\n",
              "    .dataframe tbody tr th:only-of-type {\n",
              "        vertical-align: middle;\n",
              "    }\n",
              "\n",
              "    .dataframe tbody tr th {\n",
              "        vertical-align: top;\n",
              "    }\n",
              "\n",
              "    .dataframe thead th {\n",
              "        text-align: right;\n",
              "    }\n",
              "</style>\n",
              "<table border=\"1\" class=\"dataframe\">\n",
              "  <thead>\n",
              "    <tr style=\"text-align: right;\">\n",
              "      <th></th>\n",
              "      <th>review</th>\n",
              "      <th>sentiment</th>\n",
              "    </tr>\n",
              "  </thead>\n",
              "  <tbody>\n",
              "    <tr>\n",
              "      <th>49995</th>\n",
              "      <td>thought movi right good job wasnt creativ orig...</td>\n",
              "      <td>positive</td>\n",
              "    </tr>\n",
              "    <tr>\n",
              "      <th>49996</th>\n",
              "      <td>bad plot bad dialogu bad act idiot direct anno...</td>\n",
              "      <td>negative</td>\n",
              "    </tr>\n",
              "    <tr>\n",
              "      <th>49997</th>\n",
              "      <td>cathol taught parochi elementari school nun ta...</td>\n",
              "      <td>negative</td>\n",
              "    </tr>\n",
              "    <tr>\n",
              "      <th>49998</th>\n",
              "      <td>im go disagre previou comment side maltin one ...</td>\n",
              "      <td>negative</td>\n",
              "    </tr>\n",
              "    <tr>\n",
              "      <th>49999</th>\n",
              "      <td>one expect star trek movi high art fan expect ...</td>\n",
              "      <td>negative</td>\n",
              "    </tr>\n",
              "  </tbody>\n",
              "</table>\n",
              "</div>"
            ],
            "text/plain": [
              "                                                  review sentiment\n",
              "49995  thought movi right good job wasnt creativ orig...  positive\n",
              "49996  bad plot bad dialogu bad act idiot direct anno...  negative\n",
              "49997  cathol taught parochi elementari school nun ta...  negative\n",
              "49998  im go disagre previou comment side maltin one ...  negative\n",
              "49999  one expect star trek movi high art fan expect ...  negative"
            ]
          },
          "execution_count": 6,
          "metadata": {},
          "output_type": "execute_result"
        }
      ],
      "source": [
        "data.tail()"
      ]
    },
    {
      "cell_type": "code",
      "execution_count": 7,
      "id": "7397f737",
      "metadata": {
        "colab": {
          "base_uri": "https://localhost:8080/"
        },
        "id": "7397f737",
        "outputId": "3d04eb31-0baf-450a-e093-6d1131492d39"
      },
      "outputs": [
        {
          "data": {
            "text/plain": [
              "positive    25000\n",
              "negative    25000\n",
              "Name: sentiment, dtype: int64"
            ]
          },
          "execution_count": 7,
          "metadata": {},
          "output_type": "execute_result"
        }
      ],
      "source": [
        "data[\"sentiment\"].value_counts()"
      ]
    },
    {
      "cell_type": "code",
      "execution_count": 8,
      "id": "a3de2414",
      "metadata": {
        "id": "a3de2414"
      },
      "outputs": [],
      "source": [
        "# one hot encoding\n",
        "# label encoder"
      ]
    },
    {
      "cell_type": "code",
      "execution_count": 9,
      "id": "caad96eb",
      "metadata": {
        "id": "caad96eb"
      },
      "outputs": [],
      "source": [
        "# positive -> 1\n",
        "# negative -> 0\n",
        "data.replace({\"sentiment\": {\"positive\": 1, \"negative\": 0}}, inplace=True)"
      ]
    },
    {
      "cell_type": "code",
      "execution_count": 10,
      "id": "9cbe1116",
      "metadata": {
        "colab": {
          "base_uri": "https://localhost:8080/",
          "height": 206
        },
        "id": "9cbe1116",
        "outputId": "6340be7a-a457-4b56-855b-4be01bb654cd"
      },
      "outputs": [
        {
          "data": {
            "text/html": [
              "<div>\n",
              "<style scoped>\n",
              "    .dataframe tbody tr th:only-of-type {\n",
              "        vertical-align: middle;\n",
              "    }\n",
              "\n",
              "    .dataframe tbody tr th {\n",
              "        vertical-align: top;\n",
              "    }\n",
              "\n",
              "    .dataframe thead th {\n",
              "        text-align: right;\n",
              "    }\n",
              "</style>\n",
              "<table border=\"1\" class=\"dataframe\">\n",
              "  <thead>\n",
              "    <tr style=\"text-align: right;\">\n",
              "      <th></th>\n",
              "      <th>review</th>\n",
              "      <th>sentiment</th>\n",
              "    </tr>\n",
              "  </thead>\n",
              "  <tbody>\n",
              "    <tr>\n",
              "      <th>0</th>\n",
              "      <td>one review mention watch 1 oz episod youll hoo...</td>\n",
              "      <td>1</td>\n",
              "    </tr>\n",
              "    <tr>\n",
              "      <th>1</th>\n",
              "      <td>wonder littl product film techniqu unassum old...</td>\n",
              "      <td>1</td>\n",
              "    </tr>\n",
              "    <tr>\n",
              "      <th>2</th>\n",
              "      <td>thought wonder way spend time hot summer weeke...</td>\n",
              "      <td>1</td>\n",
              "    </tr>\n",
              "    <tr>\n",
              "      <th>3</th>\n",
              "      <td>basic there famili littl boy jake think there ...</td>\n",
              "      <td>0</td>\n",
              "    </tr>\n",
              "    <tr>\n",
              "      <th>4</th>\n",
              "      <td>petter mattei love time money visual stun film...</td>\n",
              "      <td>1</td>\n",
              "    </tr>\n",
              "  </tbody>\n",
              "</table>\n",
              "</div>"
            ],
            "text/plain": [
              "                                              review  sentiment\n",
              "0  one review mention watch 1 oz episod youll hoo...          1\n",
              "1  wonder littl product film techniqu unassum old...          1\n",
              "2  thought wonder way spend time hot summer weeke...          1\n",
              "3  basic there famili littl boy jake think there ...          0\n",
              "4  petter mattei love time money visual stun film...          1"
            ]
          },
          "execution_count": 10,
          "metadata": {},
          "output_type": "execute_result"
        }
      ],
      "source": [
        "data.head()"
      ]
    },
    {
      "cell_type": "code",
      "execution_count": 11,
      "id": "1a9a53e4",
      "metadata": {
        "colab": {
          "base_uri": "https://localhost:8080/",
          "height": 206
        },
        "id": "1a9a53e4",
        "outputId": "89cf5e79-ec87-4828-8a74-d994276ea5a2"
      },
      "outputs": [
        {
          "data": {
            "text/html": [
              "<div>\n",
              "<style scoped>\n",
              "    .dataframe tbody tr th:only-of-type {\n",
              "        vertical-align: middle;\n",
              "    }\n",
              "\n",
              "    .dataframe tbody tr th {\n",
              "        vertical-align: top;\n",
              "    }\n",
              "\n",
              "    .dataframe thead th {\n",
              "        text-align: right;\n",
              "    }\n",
              "</style>\n",
              "<table border=\"1\" class=\"dataframe\">\n",
              "  <thead>\n",
              "    <tr style=\"text-align: right;\">\n",
              "      <th></th>\n",
              "      <th>review</th>\n",
              "      <th>sentiment</th>\n",
              "    </tr>\n",
              "  </thead>\n",
              "  <tbody>\n",
              "    <tr>\n",
              "      <th>49995</th>\n",
              "      <td>thought movi right good job wasnt creativ orig...</td>\n",
              "      <td>1</td>\n",
              "    </tr>\n",
              "    <tr>\n",
              "      <th>49996</th>\n",
              "      <td>bad plot bad dialogu bad act idiot direct anno...</td>\n",
              "      <td>0</td>\n",
              "    </tr>\n",
              "    <tr>\n",
              "      <th>49997</th>\n",
              "      <td>cathol taught parochi elementari school nun ta...</td>\n",
              "      <td>0</td>\n",
              "    </tr>\n",
              "    <tr>\n",
              "      <th>49998</th>\n",
              "      <td>im go disagre previou comment side maltin one ...</td>\n",
              "      <td>0</td>\n",
              "    </tr>\n",
              "    <tr>\n",
              "      <th>49999</th>\n",
              "      <td>one expect star trek movi high art fan expect ...</td>\n",
              "      <td>0</td>\n",
              "    </tr>\n",
              "  </tbody>\n",
              "</table>\n",
              "</div>"
            ],
            "text/plain": [
              "                                                  review  sentiment\n",
              "49995  thought movi right good job wasnt creativ orig...          1\n",
              "49996  bad plot bad dialogu bad act idiot direct anno...          0\n",
              "49997  cathol taught parochi elementari school nun ta...          0\n",
              "49998  im go disagre previou comment side maltin one ...          0\n",
              "49999  one expect star trek movi high art fan expect ...          0"
            ]
          },
          "execution_count": 11,
          "metadata": {},
          "output_type": "execute_result"
        }
      ],
      "source": [
        "data.tail()"
      ]
    },
    {
      "cell_type": "code",
      "execution_count": 12,
      "id": "bbd1d97e",
      "metadata": {
        "colab": {
          "base_uri": "https://localhost:8080/"
        },
        "id": "bbd1d97e",
        "outputId": "ffa722d6-7295-4b78-9373-df9b25fe14f3"
      },
      "outputs": [
        {
          "data": {
            "text/plain": [
              "1    25000\n",
              "0    25000\n",
              "Name: sentiment, dtype: int64"
            ]
          },
          "execution_count": 12,
          "metadata": {},
          "output_type": "execute_result"
        }
      ],
      "source": [
        "data[\"sentiment\"].value_counts()"
      ]
    },
    {
      "cell_type": "code",
      "execution_count": 13,
      "id": "3af629fe",
      "metadata": {
        "id": "3af629fe"
      },
      "outputs": [],
      "source": [
        "# LSTM -> LONG SHORT TERM MEMORY\n",
        "# RNN -> TEXTUAL DATA"
      ]
    },
    {
      "cell_type": "code",
      "execution_count": 14,
      "id": "8ddf0f70",
      "metadata": {},
      "outputs": [
        {
          "name": "stderr",
          "output_type": "stream",
          "text": [
            "2025-04-16 21:49:01.019865: I tensorflow/core/platform/cpu_feature_guard.cc:193] This TensorFlow binary is optimized with oneAPI Deep Neural Network Library (oneDNN) to use the following CPU instructions in performance-critical operations:  AVX2 FMA\n",
            "To enable them in other operations, rebuild TensorFlow with the appropriate compiler flags.\n",
            "2025-04-16 21:49:01.829786: W tensorflow/compiler/xla/stream_executor/platform/default/dso_loader.cc:64] Could not load dynamic library 'libnvinfer.so.7'; dlerror: libnvinfer.so.7: cannot open shared object file: No such file or directory; LD_LIBRARY_PATH: /home/ai_intern/.wasmedge/lib\n",
            "2025-04-16 21:49:01.829852: W tensorflow/compiler/xla/stream_executor/platform/default/dso_loader.cc:64] Could not load dynamic library 'libnvinfer_plugin.so.7'; dlerror: libnvinfer_plugin.so.7: cannot open shared object file: No such file or directory; LD_LIBRARY_PATH: /home/ai_intern/.wasmedge/lib\n",
            "2025-04-16 21:49:01.829857: W tensorflow/compiler/tf2tensorrt/utils/py_utils.cc:38] TF-TRT Warning: Cannot dlopen some TensorRT libraries. If you would like to use Nvidia GPU with TensorRT, please make sure the missing libraries mentioned above are installed properly.\n"
          ]
        },
        {
          "name": "stdout",
          "output_type": "stream",
          "text": [
            "\n",
            " Run 1/3\n"
          ]
        },
        {
          "name": "stderr",
          "output_type": "stream",
          "text": [
            "2025-04-16 21:49:14.248712: W tensorflow/compiler/xla/stream_executor/platform/default/dso_loader.cc:64] Could not load dynamic library 'libcudnn.so.8'; dlerror: libcudnn.so.8: cannot open shared object file: No such file or directory; LD_LIBRARY_PATH: /home/ai_intern/.wasmedge/lib\n",
            "2025-04-16 21:49:14.248782: W tensorflow/core/common_runtime/gpu/gpu_device.cc:1934] Cannot dlopen some GPU libraries. Please make sure the missing libraries mentioned above are installed properly if you would like to use GPU. Follow the guide at https://www.tensorflow.org/install/gpu for how to download and setup the required libraries for your platform.\n",
            "Skipping registering GPU devices...\n",
            "2025-04-16 21:49:14.249266: I tensorflow/core/platform/cpu_feature_guard.cc:193] This TensorFlow binary is optimized with oneAPI Deep Neural Network Library (oneDNN) to use the following CPU instructions in performance-critical operations:  AVX2 FMA\n",
            "To enable them in other operations, rebuild TensorFlow with the appropriate compiler flags.\n"
          ]
        },
        {
          "name": "stdout",
          "output_type": "stream",
          "text": [
            "Epoch 1/5\n",
            "1000/1000 - 78s - loss: 0.3937 - accuracy: 0.8260 - val_loss: 0.3079 - val_accuracy: 0.8717 - 78s/epoch - 78ms/step\n",
            "Epoch 2/5\n",
            "1000/1000 - 69s - loss: 0.2816 - accuracy: 0.8867 - val_loss: 0.2936 - val_accuracy: 0.8766 - 69s/epoch - 69ms/step\n",
            "Epoch 3/5\n",
            "1000/1000 - 67s - loss: 0.2567 - accuracy: 0.8988 - val_loss: 0.2916 - val_accuracy: 0.8804 - 67s/epoch - 67ms/step\n",
            "Epoch 4/5\n",
            "1000/1000 - 72s - loss: 0.2455 - accuracy: 0.9050 - val_loss: 0.3513 - val_accuracy: 0.8640 - 72s/epoch - 72ms/step\n",
            "Epoch 5/5\n",
            "1000/1000 - 70s - loss: 0.2346 - accuracy: 0.9081 - val_loss: 0.2825 - val_accuracy: 0.8809 - 70s/epoch - 70ms/step\n",
            " Test Accuracy (Run 1): 0.8863\n",
            "\n",
            " Run 2/3\n",
            "Epoch 1/5\n",
            "1000/1000 - 70s - loss: 0.3967 - accuracy: 0.8200 - val_loss: 0.2969 - val_accuracy: 0.8811 - 70s/epoch - 70ms/step\n",
            "Epoch 2/5\n",
            "1000/1000 - 66s - loss: 0.2830 - accuracy: 0.8864 - val_loss: 0.2938 - val_accuracy: 0.8758 - 66s/epoch - 66ms/step\n",
            "Epoch 3/5\n",
            "1000/1000 - 65s - loss: 0.2580 - accuracy: 0.8980 - val_loss: 0.2986 - val_accuracy: 0.8821 - 65s/epoch - 65ms/step\n",
            "Epoch 4/5\n",
            "1000/1000 - 65s - loss: 0.2416 - accuracy: 0.9067 - val_loss: 0.3307 - val_accuracy: 0.8758 - 65s/epoch - 65ms/step\n",
            "Epoch 5/5\n",
            "1000/1000 - 66s - loss: 0.2305 - accuracy: 0.9092 - val_loss: 0.2913 - val_accuracy: 0.8823 - 66s/epoch - 66ms/step\n",
            " Test Accuracy (Run 2): 0.8869\n",
            "\n",
            " Run 3/3\n",
            "Epoch 1/5\n",
            "1000/1000 - 68s - loss: 0.3915 - accuracy: 0.8233 - val_loss: 0.2986 - val_accuracy: 0.8754 - 68s/epoch - 68ms/step\n",
            "Epoch 2/5\n",
            "1000/1000 - 66s - loss: 0.2832 - accuracy: 0.8870 - val_loss: 0.2807 - val_accuracy: 0.8869 - 66s/epoch - 66ms/step\n",
            "Epoch 3/5\n",
            "1000/1000 - 72s - loss: 0.2592 - accuracy: 0.8975 - val_loss: 0.3097 - val_accuracy: 0.8719 - 72s/epoch - 72ms/step\n",
            "Epoch 4/5\n",
            "1000/1000 - 63s - loss: 0.2498 - accuracy: 0.9015 - val_loss: 0.2855 - val_accuracy: 0.8831 - 63s/epoch - 63ms/step\n",
            "Epoch 5/5\n",
            "1000/1000 - 65s - loss: 0.2376 - accuracy: 0.9073 - val_loss: 0.2832 - val_accuracy: 0.8826 - 65s/epoch - 65ms/step\n",
            " Test Accuracy (Run 3): 0.8859\n",
            "\n",
            " Final Result for this configuration:\n",
            "Average Test Accuracy: 0.8864\n",
            "Standard Deviation: 0.0004\n"
          ]
        }
      ],
      "source": [
        "from sklearn.model_selection import train_test_split\n",
        "from tensorflow.keras.models import Sequential\n",
        "from tensorflow.keras.layers import Dense, Embedding, LSTM\n",
        "from tensorflow.keras.preprocessing.text import Tokenizer\n",
        "from tensorflow.keras.preprocessing.sequence import pad_sequences\n",
        "import numpy as np\n",
        "\n",
        "# Tách tập train/test\n",
        "train_data, test_data = train_test_split(data, test_size=0.2, random_state=42)\n",
        "\n",
        "# Tiền xử lý văn bản\n",
        "tokenizer = Tokenizer(num_words=5000)\n",
        "tokenizer.fit_on_texts(train_data[\"review\"])\n",
        "\n",
        "X_train = pad_sequences(tokenizer.texts_to_sequences(train_data[\"review\"]), maxlen=200)\n",
        "X_test = pad_sequences(tokenizer.texts_to_sequences(test_data[\"review\"]), maxlen=200)\n",
        "\n",
        "Y_train = train_data[\"sentiment\"]\n",
        "Y_test = test_data[\"sentiment\"]\n",
        "\n",
        "# Lưu kết quả độ chính xác\n",
        "accuracies = []\n",
        "\n",
        "for run in range(3):\n",
        "    print(f\"\\n Run {run + 1}/3\")\n",
        "\n",
        "    model = Sequential()\n",
        "    model.add(Embedding(input_dim=5000, output_dim=32, input_length=200))\n",
        "    model.add(LSTM(64, dropout=0.4, recurrent_dropout=0.4))\n",
        "    model.add(Dense(1, activation=\"sigmoid\"))\n",
        "\n",
        "    model.compile(optimizer=\"rmsprop\", loss=\"binary_crossentropy\", metrics=[\"accuracy\"])\n",
        "\n",
        "    model.fit(X_train, Y_train, epochs=5, batch_size=32, validation_split=0.2, verbose=2)\n",
        "\n",
        "    test_loss, test_accuracy = model.evaluate(X_test, Y_test, verbose=0)\n",
        "    print(f\" Test Accuracy (Run {run + 1}): {test_accuracy:.4f}\")\n",
        "    accuracies.append(test_accuracy)\n",
        "\n",
        "# Tính trung bình và độ lệch chuẩn\n",
        "mean_acc = np.mean(accuracies)\n",
        "std_acc = np.std(accuracies)\n",
        "\n",
        "print(\"\\n Final Result for this configuration:\")\n",
        "print(f\"Average Test Accuracy: {mean_acc:.4f}\")\n",
        "print(f\"Standard Deviation: {std_acc:.4f}\")\n"
      ]
    }
  ],
  "metadata": {
    "accelerator": "GPU",
    "colab": {
      "gpuType": "T4",
      "provenance": []
    },
    "kernelspec": {
      "display_name": "khaan_SOICT",
      "language": "python",
      "name": "python3"
    },
    "language_info": {
      "codemirror_mode": {
        "name": "ipython",
        "version": 3
      },
      "file_extension": ".py",
      "mimetype": "text/x-python",
      "name": "python",
      "nbconvert_exporter": "python",
      "pygments_lexer": "ipython3",
      "version": "3.7.12"
    }
  },
  "nbformat": 4,
  "nbformat_minor": 5
}
